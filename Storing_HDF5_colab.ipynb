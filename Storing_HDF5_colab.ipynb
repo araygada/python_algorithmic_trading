{
  "cells": [
    {
      "cell_type": "code",
      "source": [
        "#from google.colab import files\n",
        "#uploaded = files.upload()"
      ],
      "metadata": {
        "id": "ajRZ4iOXBeuW"
      },
      "id": "ajRZ4iOXBeuW",
      "execution_count": 12,
      "outputs": []
    },
    {
      "cell_type": "code",
      "source": [
        "#!pip install yfinance"
      ],
      "metadata": {
        "id": "XJddZRvpB4UZ"
      },
      "id": "XJddZRvpB4UZ",
      "execution_count": 7,
      "outputs": []
    },
    {
      "cell_type": "code",
      "execution_count": 5,
      "id": "0cad9baa",
      "metadata": {
        "id": "0cad9baa"
      },
      "outputs": [],
      "source": [
        "import yfinance as yf"
      ]
    },
    {
      "cell_type": "code",
      "execution_count": 8,
      "id": "be949ac3",
      "metadata": {
        "colab": {
          "base_uri": "https://localhost:8080/",
          "height": 455
        },
        "id": "be949ac3",
        "outputId": "a244dd7d-5883-4885-a520-908de82b4d4c"
      },
      "outputs": [
        {
          "output_type": "execute_result",
          "data": {
            "text/plain": [
              "                                   Open          High           Low  \\\n",
              "Date                                                                  \n",
              "2014-09-17 00:00:00+00:00    465.864014    468.174011    452.421997   \n",
              "2014-09-18 00:00:00+00:00    456.859985    456.859985    413.104004   \n",
              "2014-09-19 00:00:00+00:00    424.102997    427.834991    384.532013   \n",
              "2014-09-20 00:00:00+00:00    394.673004    423.295990    389.882996   \n",
              "2014-09-21 00:00:00+00:00    408.084991    412.425995    393.181000   \n",
              "...                                 ...           ...           ...   \n",
              "2022-11-07 00:00:00+00:00  20924.621094  21053.246094  20489.972656   \n",
              "2022-11-08 00:00:00+00:00  20600.671875  20664.607422  17603.544922   \n",
              "2022-11-09 00:00:00+00:00  18543.761719  18590.458984  15682.692383   \n",
              "2022-11-10 00:00:00+00:00  15883.158203  18054.312500  15834.018555   \n",
              "2022-11-11 00:00:00+00:00  17613.328125  17646.191406  16565.859375   \n",
              "\n",
              "                                  Close        Volume  Dividends  Stock Splits  \n",
              "Date                                                                            \n",
              "2014-09-17 00:00:00+00:00    457.334015      21056800          0             0  \n",
              "2014-09-18 00:00:00+00:00    424.440002      34483200          0             0  \n",
              "2014-09-19 00:00:00+00:00    394.795990      37919700          0             0  \n",
              "2014-09-20 00:00:00+00:00    408.903992      36863600          0             0  \n",
              "2014-09-21 00:00:00+00:00    398.821014      26580100          0             0  \n",
              "...                                 ...           ...        ...           ...  \n",
              "2022-11-07 00:00:00+00:00  20602.816406   53510852236          0             0  \n",
              "2022-11-08 00:00:00+00:00  18541.271484  118992465607          0             0  \n",
              "2022-11-09 00:00:00+00:00  15880.780273  102905151606          0             0  \n",
              "2022-11-10 00:00:00+00:00  17586.771484   83202283721          0             0  \n",
              "2022-11-11 00:00:00+00:00  16866.876953   58807308288          0             0  \n",
              "\n",
              "[2978 rows x 7 columns]"
            ],
            "text/html": [
              "\n",
              "  <div id=\"df-762de327-6a40-4d19-a329-a1d155cf4595\">\n",
              "    <div class=\"colab-df-container\">\n",
              "      <div>\n",
              "<style scoped>\n",
              "    .dataframe tbody tr th:only-of-type {\n",
              "        vertical-align: middle;\n",
              "    }\n",
              "\n",
              "    .dataframe tbody tr th {\n",
              "        vertical-align: top;\n",
              "    }\n",
              "\n",
              "    .dataframe thead th {\n",
              "        text-align: right;\n",
              "    }\n",
              "</style>\n",
              "<table border=\"1\" class=\"dataframe\">\n",
              "  <thead>\n",
              "    <tr style=\"text-align: right;\">\n",
              "      <th></th>\n",
              "      <th>Open</th>\n",
              "      <th>High</th>\n",
              "      <th>Low</th>\n",
              "      <th>Close</th>\n",
              "      <th>Volume</th>\n",
              "      <th>Dividends</th>\n",
              "      <th>Stock Splits</th>\n",
              "    </tr>\n",
              "    <tr>\n",
              "      <th>Date</th>\n",
              "      <th></th>\n",
              "      <th></th>\n",
              "      <th></th>\n",
              "      <th></th>\n",
              "      <th></th>\n",
              "      <th></th>\n",
              "      <th></th>\n",
              "    </tr>\n",
              "  </thead>\n",
              "  <tbody>\n",
              "    <tr>\n",
              "      <th>2014-09-17 00:00:00+00:00</th>\n",
              "      <td>465.864014</td>\n",
              "      <td>468.174011</td>\n",
              "      <td>452.421997</td>\n",
              "      <td>457.334015</td>\n",
              "      <td>21056800</td>\n",
              "      <td>0</td>\n",
              "      <td>0</td>\n",
              "    </tr>\n",
              "    <tr>\n",
              "      <th>2014-09-18 00:00:00+00:00</th>\n",
              "      <td>456.859985</td>\n",
              "      <td>456.859985</td>\n",
              "      <td>413.104004</td>\n",
              "      <td>424.440002</td>\n",
              "      <td>34483200</td>\n",
              "      <td>0</td>\n",
              "      <td>0</td>\n",
              "    </tr>\n",
              "    <tr>\n",
              "      <th>2014-09-19 00:00:00+00:00</th>\n",
              "      <td>424.102997</td>\n",
              "      <td>427.834991</td>\n",
              "      <td>384.532013</td>\n",
              "      <td>394.795990</td>\n",
              "      <td>37919700</td>\n",
              "      <td>0</td>\n",
              "      <td>0</td>\n",
              "    </tr>\n",
              "    <tr>\n",
              "      <th>2014-09-20 00:00:00+00:00</th>\n",
              "      <td>394.673004</td>\n",
              "      <td>423.295990</td>\n",
              "      <td>389.882996</td>\n",
              "      <td>408.903992</td>\n",
              "      <td>36863600</td>\n",
              "      <td>0</td>\n",
              "      <td>0</td>\n",
              "    </tr>\n",
              "    <tr>\n",
              "      <th>2014-09-21 00:00:00+00:00</th>\n",
              "      <td>408.084991</td>\n",
              "      <td>412.425995</td>\n",
              "      <td>393.181000</td>\n",
              "      <td>398.821014</td>\n",
              "      <td>26580100</td>\n",
              "      <td>0</td>\n",
              "      <td>0</td>\n",
              "    </tr>\n",
              "    <tr>\n",
              "      <th>...</th>\n",
              "      <td>...</td>\n",
              "      <td>...</td>\n",
              "      <td>...</td>\n",
              "      <td>...</td>\n",
              "      <td>...</td>\n",
              "      <td>...</td>\n",
              "      <td>...</td>\n",
              "    </tr>\n",
              "    <tr>\n",
              "      <th>2022-11-07 00:00:00+00:00</th>\n",
              "      <td>20924.621094</td>\n",
              "      <td>21053.246094</td>\n",
              "      <td>20489.972656</td>\n",
              "      <td>20602.816406</td>\n",
              "      <td>53510852236</td>\n",
              "      <td>0</td>\n",
              "      <td>0</td>\n",
              "    </tr>\n",
              "    <tr>\n",
              "      <th>2022-11-08 00:00:00+00:00</th>\n",
              "      <td>20600.671875</td>\n",
              "      <td>20664.607422</td>\n",
              "      <td>17603.544922</td>\n",
              "      <td>18541.271484</td>\n",
              "      <td>118992465607</td>\n",
              "      <td>0</td>\n",
              "      <td>0</td>\n",
              "    </tr>\n",
              "    <tr>\n",
              "      <th>2022-11-09 00:00:00+00:00</th>\n",
              "      <td>18543.761719</td>\n",
              "      <td>18590.458984</td>\n",
              "      <td>15682.692383</td>\n",
              "      <td>15880.780273</td>\n",
              "      <td>102905151606</td>\n",
              "      <td>0</td>\n",
              "      <td>0</td>\n",
              "    </tr>\n",
              "    <tr>\n",
              "      <th>2022-11-10 00:00:00+00:00</th>\n",
              "      <td>15883.158203</td>\n",
              "      <td>18054.312500</td>\n",
              "      <td>15834.018555</td>\n",
              "      <td>17586.771484</td>\n",
              "      <td>83202283721</td>\n",
              "      <td>0</td>\n",
              "      <td>0</td>\n",
              "    </tr>\n",
              "    <tr>\n",
              "      <th>2022-11-11 00:00:00+00:00</th>\n",
              "      <td>17613.328125</td>\n",
              "      <td>17646.191406</td>\n",
              "      <td>16565.859375</td>\n",
              "      <td>16866.876953</td>\n",
              "      <td>58807308288</td>\n",
              "      <td>0</td>\n",
              "      <td>0</td>\n",
              "    </tr>\n",
              "  </tbody>\n",
              "</table>\n",
              "<p>2978 rows × 7 columns</p>\n",
              "</div>\n",
              "      <button class=\"colab-df-convert\" onclick=\"convertToInteractive('df-762de327-6a40-4d19-a329-a1d155cf4595')\"\n",
              "              title=\"Convert this dataframe to an interactive table.\"\n",
              "              style=\"display:none;\">\n",
              "        \n",
              "  <svg xmlns=\"http://www.w3.org/2000/svg\" height=\"24px\"viewBox=\"0 0 24 24\"\n",
              "       width=\"24px\">\n",
              "    <path d=\"M0 0h24v24H0V0z\" fill=\"none\"/>\n",
              "    <path d=\"M18.56 5.44l.94 2.06.94-2.06 2.06-.94-2.06-.94-.94-2.06-.94 2.06-2.06.94zm-11 1L8.5 8.5l.94-2.06 2.06-.94-2.06-.94L8.5 2.5l-.94 2.06-2.06.94zm10 10l.94 2.06.94-2.06 2.06-.94-2.06-.94-.94-2.06-.94 2.06-2.06.94z\"/><path d=\"M17.41 7.96l-1.37-1.37c-.4-.4-.92-.59-1.43-.59-.52 0-1.04.2-1.43.59L10.3 9.45l-7.72 7.72c-.78.78-.78 2.05 0 2.83L4 21.41c.39.39.9.59 1.41.59.51 0 1.02-.2 1.41-.59l7.78-7.78 2.81-2.81c.8-.78.8-2.07 0-2.86zM5.41 20L4 18.59l7.72-7.72 1.47 1.35L5.41 20z\"/>\n",
              "  </svg>\n",
              "      </button>\n",
              "      \n",
              "  <style>\n",
              "    .colab-df-container {\n",
              "      display:flex;\n",
              "      flex-wrap:wrap;\n",
              "      gap: 12px;\n",
              "    }\n",
              "\n",
              "    .colab-df-convert {\n",
              "      background-color: #E8F0FE;\n",
              "      border: none;\n",
              "      border-radius: 50%;\n",
              "      cursor: pointer;\n",
              "      display: none;\n",
              "      fill: #1967D2;\n",
              "      height: 32px;\n",
              "      padding: 0 0 0 0;\n",
              "      width: 32px;\n",
              "    }\n",
              "\n",
              "    .colab-df-convert:hover {\n",
              "      background-color: #E2EBFA;\n",
              "      box-shadow: 0px 1px 2px rgba(60, 64, 67, 0.3), 0px 1px 3px 1px rgba(60, 64, 67, 0.15);\n",
              "      fill: #174EA6;\n",
              "    }\n",
              "\n",
              "    [theme=dark] .colab-df-convert {\n",
              "      background-color: #3B4455;\n",
              "      fill: #D2E3FC;\n",
              "    }\n",
              "\n",
              "    [theme=dark] .colab-df-convert:hover {\n",
              "      background-color: #434B5C;\n",
              "      box-shadow: 0px 1px 3px 1px rgba(0, 0, 0, 0.15);\n",
              "      filter: drop-shadow(0px 1px 2px rgba(0, 0, 0, 0.3));\n",
              "      fill: #FFFFFF;\n",
              "    }\n",
              "  </style>\n",
              "\n",
              "      <script>\n",
              "        const buttonEl =\n",
              "          document.querySelector('#df-762de327-6a40-4d19-a329-a1d155cf4595 button.colab-df-convert');\n",
              "        buttonEl.style.display =\n",
              "          google.colab.kernel.accessAllowed ? 'block' : 'none';\n",
              "\n",
              "        async function convertToInteractive(key) {\n",
              "          const element = document.querySelector('#df-762de327-6a40-4d19-a329-a1d155cf4595');\n",
              "          const dataTable =\n",
              "            await google.colab.kernel.invokeFunction('convertToInteractive',\n",
              "                                                     [key], {});\n",
              "          if (!dataTable) return;\n",
              "\n",
              "          const docLinkHtml = 'Like what you see? Visit the ' +\n",
              "            '<a target=\"_blank\" href=https://colab.research.google.com/notebooks/data_table.ipynb>data table notebook</a>'\n",
              "            + ' to learn more about interactive tables.';\n",
              "          element.innerHTML = '';\n",
              "          dataTable['output_type'] = 'display_data';\n",
              "          await google.colab.output.renderOutput(dataTable, element);\n",
              "          const docLink = document.createElement('div');\n",
              "          docLink.innerHTML = docLinkHtml;\n",
              "          element.appendChild(docLink);\n",
              "        }\n",
              "      </script>\n",
              "    </div>\n",
              "  </div>\n",
              "  "
            ]
          },
          "metadata": {},
          "execution_count": 8
        }
      ],
      "source": [
        "ticket = yf.Ticker(\"BTC-USD\")\n",
        "\n",
        "df = ticket.history(period=\"max\")\n",
        "df"
      ]
    },
    {
      "cell_type": "code",
      "execution_count": 9,
      "id": "cb54d080",
      "metadata": {
        "colab": {
          "base_uri": "https://localhost:8080/",
          "height": 298
        },
        "id": "cb54d080",
        "outputId": "4e2bb7c9-2a4d-4afa-8328-5dd4462c24e4"
      },
      "outputs": [
        {
          "output_type": "execute_result",
          "data": {
            "text/plain": [
              "<matplotlib.axes._subplots.AxesSubplot at 0x7f7714977ad0>"
            ]
          },
          "metadata": {},
          "execution_count": 9
        },
        {
          "output_type": "display_data",
          "data": {
            "text/plain": [
              "<Figure size 432x288 with 1 Axes>"
            ],
            "image/png": "[encoded data removed]"
          },
          "metadata": {
            "needs_background": "light"
          }
        }
      ],
      "source": [
        "df['Close'].plot()"
      ]
    },
    {
      "cell_type": "code",
      "execution_count": null,
      "id": "2e50fbe8",
      "metadata": {
        "id": "2e50fbe8"
      },
      "outputs": [],
      "source": [
        "from sample_data import generate_sample_data\n",
        "from tqdm.notebook import tqdm_notebook\n",
        "import pandas as pd\n",
        "\n"
      ]
    },
    {
      "cell_type": "code",
      "source": [
        "import numpy as np\n",
        "import pandas as pd\n",
        "\n",
        "r = 0.05  # constant short rate\n",
        "sigma = 0.5  # volatility factor\n",
        "\n",
        "\n",
        "def generate_sample_data(rows, cols, freq='1min'):\n",
        "    '''\n",
        "    Function to generate sample financial data.\n",
        "\n",
        "    Parameters\n",
        "    ==========\n",
        "    rows: int\n",
        "        number of rows to generate\n",
        "    cols: int\n",
        "        number of columns to generate\n",
        "    freq: str\n",
        "        frequency string for DatetimeIndex\n",
        "\n",
        "    Returns\n",
        "    =======\n",
        "    df: DataFrame\n",
        "        DataFrame object with the sample data\n",
        "    '''\n",
        "    rows = int(rows)\n",
        "    cols = int(cols)\n",
        "    # generate a DatetimeIndex object given the frequency\n",
        "    index = pd.date_range('2021-1-1', periods=rows, freq=freq)\n",
        "    # determine time delta in year fractions\n",
        "    dt = (index[1] - index[0]) / pd.Timedelta(value='365D')\n",
        "    # generate column names\n",
        "    columns = ['No%d' % i for i in range(cols)]\n",
        "    # generate sample paths for geometric Brownian motion\n",
        "    raw = np.exp(np.cumsum((r - 0.5 * sigma ** 2) * dt +\n",
        "                 sigma * np.sqrt(dt) *\n",
        "                 np.random.standard_normal((rows, cols)), axis=0))\n",
        "    # normalize the data to start at 100\n",
        "    raw = raw / raw[0] * 100\n",
        "    # generate the DataFrame object\n",
        "    df = pd.DataFrame(raw, index=index, columns=columns)\n",
        "    return df"
      ],
      "metadata": {
        "id": "xt9xza5hC2T7"
      },
      "id": "xt9xza5hC2T7",
      "execution_count": 17,
      "outputs": []
    },
    {
      "cell_type": "code",
      "execution_count": 18,
      "id": "e3d4ec59",
      "metadata": {
        "colab": {
          "base_uri": "https://localhost:8080/"
        },
        "id": "e3d4ec59",
        "outputId": "c7bf82a1-b2ef-4bce-addd-d2f345cb0ec1"
      },
      "outputs": [
        {
          "output_type": "stream",
          "name": "stdout",
          "text": [
            "CPU times: user 5.17 s, sys: 633 ms, total: 5.8 s\n",
            "Wall time: 6.08 s\n"
          ]
        }
      ],
      "source": [
        "%time data = generate_sample_data(rows=5e6, cols=10).round(4)"
      ]
    },
    {
      "cell_type": "code",
      "execution_count": 19,
      "id": "a37e3033",
      "metadata": {
        "colab": {
          "base_uri": "https://localhost:8080/"
        },
        "id": "a37e3033",
        "outputId": "0ae4d323-af9f-49fb-d5b1-f95fc5e5319a"
      },
      "outputs": [
        {
          "output_type": "stream",
          "name": "stdout",
          "text": [
            "<class 'pandas.core.frame.DataFrame'>\n",
            "DatetimeIndex: 5000000 entries, 2021-01-01 00:00:00 to 2030-07-05 05:19:00\n",
            "Freq: T\n",
            "Data columns (total 10 columns):\n",
            " #   Column  Dtype  \n",
            "---  ------  -----  \n",
            " 0   No0     float64\n",
            " 1   No1     float64\n",
            " 2   No2     float64\n",
            " 3   No3     float64\n",
            " 4   No4     float64\n",
            " 5   No5     float64\n",
            " 6   No6     float64\n",
            " 7   No7     float64\n",
            " 8   No8     float64\n",
            " 9   No9     float64\n",
            "dtypes: float64(10)\n",
            "memory usage: 419.6 MB\n"
          ]
        }
      ],
      "source": [
        "data.info()"
      ]
    },
    {
      "cell_type": "code",
      "execution_count": 21,
      "id": "c4429b7f",
      "metadata": {
        "id": "c4429b7f"
      },
      "outputs": [],
      "source": [
        "h5 = pd.HDFStore('data.h5', 'w')"
      ]
    },
    {
      "cell_type": "code",
      "execution_count": 22,
      "id": "8749064c",
      "metadata": {
        "colab": {
          "base_uri": "https://localhost:8080/"
        },
        "id": "8749064c",
        "outputId": "7179cacb-34c9-4fc1-cf42-131d44a73add"
      },
      "outputs": [
        {
          "output_type": "stream",
          "name": "stdout",
          "text": [
            "CPU times: user 251 ms, sys: 660 ms, total: 911 ms\n",
            "Wall time: 1.41 s\n"
          ]
        }
      ],
      "source": [
        "%time h5['data'] = data"
      ]
    },
    {
      "cell_type": "code",
      "execution_count": 23,
      "id": "6a000c73",
      "metadata": {
        "colab": {
          "base_uri": "https://localhost:8080/"
        },
        "id": "6a000c73",
        "outputId": "03423a3f-b97f-4b0e-e0b1-0775465fe07f"
      },
      "outputs": [
        {
          "output_type": "execute_result",
          "data": {
            "text/plain": [
              "<class 'pandas.io.pytables.HDFStore'>\n",
              "File path: data.h5"
            ]
          },
          "metadata": {},
          "execution_count": 23
        }
      ],
      "source": [
        "h5"
      ]
    },
    {
      "cell_type": "code",
      "execution_count": 24,
      "id": "ec16e10c",
      "metadata": {
        "colab": {
          "base_uri": "https://localhost:8080/"
        },
        "id": "ec16e10c",
        "outputId": "160c3046-b1ec-4f9e-ae12-f4a1ed40eb50"
      },
      "outputs": [
        {
          "output_type": "execute_result",
          "data": {
            "text/plain": [
              "['/data']"
            ]
          },
          "metadata": {},
          "execution_count": 24
        }
      ],
      "source": [
        "list(h5)"
      ]
    },
    {
      "cell_type": "code",
      "execution_count": 25,
      "id": "28a7e7e2",
      "metadata": {
        "colab": {
          "base_uri": "https://localhost:8080/"
        },
        "id": "28a7e7e2",
        "outputId": "90879fac-228a-4376-be68-1da1f1a08be2"
      },
      "outputs": [
        {
          "output_type": "execute_result",
          "data": {
            "text/plain": [
              "pandas.io.pytables.HDFStore"
            ]
          },
          "metadata": {},
          "execution_count": 25
        }
      ],
      "source": [
        "type(h5)"
      ]
    },
    {
      "cell_type": "code",
      "execution_count": 26,
      "id": "df10e2a9",
      "metadata": {
        "colab": {
          "base_uri": "https://localhost:8080/"
        },
        "id": "df10e2a9",
        "outputId": "f4c5ce28-7f97-4395-8089-af4a5cf9e0ae"
      },
      "outputs": [
        {
          "output_type": "stream",
          "name": "stdout",
          "text": [
            "/bin/bash: -c: line 0: unexpected EOF while looking for matching `\"'\n",
            "/bin/bash: -c: line 1: syntax error: unexpected end of file\n"
          ]
        }
      ],
      "source": [
        "ls -n \"\\\""
      ]
    },
    {
      "cell_type": "code",
      "execution_count": 27,
      "id": "febb819f",
      "metadata": {
        "id": "febb819f"
      },
      "outputs": [],
      "source": [
        "h5.close()"
      ]
    },
    {
      "cell_type": "code",
      "execution_count": 28,
      "id": "ad238c1c",
      "metadata": {
        "id": "ad238c1c"
      },
      "outputs": [],
      "source": [
        "h5 = pd.HDFStore('data.h5', 'r')"
      ]
    },
    {
      "cell_type": "code",
      "execution_count": 29,
      "id": "0bc7dc1b",
      "metadata": {
        "colab": {
          "base_uri": "https://localhost:8080/"
        },
        "id": "0bc7dc1b",
        "outputId": "9f47c164-6b41-40d7-8f9b-c65cd41857fa"
      },
      "outputs": [
        {
          "output_type": "stream",
          "name": "stdout",
          "text": [
            "CPU times: user 478 ms, sys: 385 ms, total: 863 ms\n",
            "Wall time: 862 ms\n"
          ]
        }
      ],
      "source": [
        "%time data_copy = h5['data']"
      ]
    },
    {
      "cell_type": "code",
      "execution_count": 30,
      "id": "fce1c9cf",
      "metadata": {
        "colab": {
          "base_uri": "https://localhost:8080/"
        },
        "id": "fce1c9cf",
        "outputId": "fdcf239c-b3ca-4b2b-e076-dbb450496dfd"
      },
      "outputs": [
        {
          "output_type": "stream",
          "name": "stdout",
          "text": [
            "<class 'pandas.core.frame.DataFrame'>\n",
            "DatetimeIndex: 5000000 entries, 2021-01-01 00:00:00 to 2030-07-05 05:19:00\n",
            "Freq: T\n",
            "Data columns (total 10 columns):\n",
            " #   Column  Dtype  \n",
            "---  ------  -----  \n",
            " 0   No0     float64\n",
            " 1   No1     float64\n",
            " 2   No2     float64\n",
            " 3   No3     float64\n",
            " 4   No4     float64\n",
            " 5   No5     float64\n",
            " 6   No6     float64\n",
            " 7   No7     float64\n",
            " 8   No8     float64\n",
            " 9   No9     float64\n",
            "dtypes: float64(10)\n",
            "memory usage: 419.6 MB\n"
          ]
        }
      ],
      "source": [
        "data_copy.info()"
      ]
    },
    {
      "cell_type": "code",
      "execution_count": 31,
      "id": "523e1c2c",
      "metadata": {
        "id": "523e1c2c"
      },
      "outputs": [],
      "source": [
        "h5.close()"
      ]
    },
    {
      "cell_type": "code",
      "execution_count": 32,
      "id": "b04a59fc",
      "metadata": {
        "id": "b04a59fc"
      },
      "outputs": [],
      "source": [
        "#rm 'data/data.h5'\n",
        "!rm \"data.h5\""
      ]
    },
    {
      "cell_type": "markdown",
      "id": "87a51360",
      "metadata": {
        "id": "87a51360"
      },
      "source": [
        "#### Using to_hdf method"
      ]
    },
    {
      "cell_type": "code",
      "source": [
        "!rmi data"
      ],
      "metadata": {
        "colab": {
          "base_uri": "https://localhost:8080/"
        },
        "id": "18A1MTBnD8x4",
        "outputId": "b0cf3c3d-b41b-4f3a-a750-0e1364359715"
      },
      "id": "18A1MTBnD8x4",
      "execution_count": 42,
      "outputs": [
        {
          "output_type": "stream",
          "name": "stdout",
          "text": [
            "/bin/bash: rmi: command not found\n"
          ]
        }
      ]
    },
    {
      "cell_type": "code",
      "execution_count": 43,
      "id": "899a865f",
      "metadata": {
        "colab": {
          "base_uri": "https://localhost:8080/"
        },
        "id": "899a865f",
        "outputId": "5b5e8c9b-391c-4eef-8b21-a9bcfcccb8b4"
      },
      "outputs": [
        {
          "output_type": "stream",
          "name": "stdout",
          "text": [
            "CPU times: user 4.08 s, sys: 1.23 s, total: 5.31 s\n",
            "Wall time: 5.46 s\n"
          ]
        }
      ],
      "source": [
        "%time data.to_hdf('data/data.h5', 'data', format='table')"
      ]
    },
    {
      "cell_type": "code",
      "execution_count": 46,
      "id": "56b65594",
      "metadata": {
        "colab": {
          "base_uri": "https://localhost:8080/"
        },
        "id": "56b65594",
        "outputId": "0bbc8fa2-8706-40b6-e8a8-8f171b79ac44"
      },
      "outputs": [
        {
          "output_type": "stream",
          "name": "stdout",
          "text": [
            "-rw-r--r-- 1 0 0 446911563 Nov 11 18:54 data/data.h5\n"
          ]
        }
      ],
      "source": [
        "ls -n data/data.*"
      ]
    },
    {
      "cell_type": "code",
      "execution_count": 47,
      "id": "b0050de4",
      "metadata": {
        "colab": {
          "base_uri": "https://localhost:8080/"
        },
        "id": "b0050de4",
        "outputId": "91f53556-4eef-4dac-9fd1-4ac4038bcef8"
      },
      "outputs": [
        {
          "output_type": "stream",
          "name": "stdout",
          "text": [
            "CPU times: user 192 ms, sys: 555 ms, total: 746 ms\n",
            "Wall time: 745 ms\n"
          ]
        }
      ],
      "source": [
        "%time data_copy = pd.read_hdf('data/data.h5', 'data')"
      ]
    },
    {
      "cell_type": "code",
      "execution_count": 48,
      "id": "ff269878",
      "metadata": {
        "colab": {
          "base_uri": "https://localhost:8080/"
        },
        "id": "ff269878",
        "outputId": "4cb8f29e-ff0a-4b20-b27f-e67b76085af2"
      },
      "outputs": [
        {
          "output_type": "stream",
          "name": "stdout",
          "text": [
            "<class 'pandas.core.frame.DataFrame'>\n",
            "DatetimeIndex: 5000000 entries, 2021-01-01 00:00:00 to 2030-07-05 05:19:00\n",
            "Freq: T\n",
            "Data columns (total 10 columns):\n",
            " #   Column  Dtype  \n",
            "---  ------  -----  \n",
            " 0   No0     float64\n",
            " 1   No1     float64\n",
            " 2   No2     float64\n",
            " 3   No3     float64\n",
            " 4   No4     float64\n",
            " 5   No5     float64\n",
            " 6   No6     float64\n",
            " 7   No7     float64\n",
            " 8   No8     float64\n",
            " 9   No9     float64\n",
            "dtypes: float64(10)\n",
            "memory usage: 419.6 MB\n"
          ]
        }
      ],
      "source": [
        "data_copy.info()"
      ]
    },
    {
      "cell_type": "code",
      "execution_count": 49,
      "id": "1198024d",
      "metadata": {
        "id": "1198024d"
      },
      "outputs": [],
      "source": [
        "import tables as tb"
      ]
    },
    {
      "cell_type": "code",
      "source": [
        "#!mkdir data"
      ],
      "metadata": {
        "id": "dlJTVXbeDtVX"
      },
      "id": "dlJTVXbeDtVX",
      "execution_count": 39,
      "outputs": []
    },
    {
      "cell_type": "code",
      "execution_count": 50,
      "id": "f1548e59",
      "metadata": {
        "id": "f1548e59"
      },
      "outputs": [],
      "source": [
        "h5 = tb.open_file('data/data.h5', 'r')"
      ]
    },
    {
      "cell_type": "code",
      "execution_count": 51,
      "id": "abecdf2c",
      "metadata": {
        "colab": {
          "base_uri": "https://localhost:8080/"
        },
        "id": "abecdf2c",
        "outputId": "bbb31101-4780-4304-b957-befde814c9ad"
      },
      "outputs": [
        {
          "output_type": "execute_result",
          "data": {
            "text/plain": [
              "File(filename=data/data.h5, title='', mode='r', root_uep='/', filters=Filters(complevel=0, shuffle=False, bitshuffle=False, fletcher32=False, least_significant_digit=None))\n",
              "/ (RootGroup) ''\n",
              "/data (Group) ''\n",
              "/data/table (Table(5000000,)) ''\n",
              "  description := {\n",
              "  \"index\": Int64Col(shape=(), dflt=0, pos=0),\n",
              "  \"values_block_0\": Float64Col(shape=(10,), dflt=0.0, pos=1)}\n",
              "  byteorder := 'little'\n",
              "  chunkshape := (2978,)\n",
              "  autoindex := True\n",
              "  colindexes := {\n",
              "    \"index\": Index(6, mediumshuffle, zlib(1)).is_csi=False}"
            ]
          },
          "metadata": {},
          "execution_count": 51
        }
      ],
      "source": [
        "h5"
      ]
    },
    {
      "cell_type": "code",
      "execution_count": 52,
      "id": "84f24c4a",
      "metadata": {
        "colab": {
          "base_uri": "https://localhost:8080/"
        },
        "id": "84f24c4a",
        "outputId": "f0de456b-858c-438a-a846-4ea490fb3542"
      },
      "outputs": [
        {
          "output_type": "execute_result",
          "data": {
            "text/plain": [
              "array([(1609459200000000000, [100.    , 100.    , 100.    , 100.    , 100.    , 100.    , 100.    , 100.    , 100.    , 100.    ]),\n",
              "       (1609459260000000000, [ 99.967 , 100.1115, 100.0012,  99.8922, 100.0089,  99.9638, 100.0376,  99.9883, 100.0087, 100.0016]),\n",
              "       (1609459320000000000, [ 99.9052, 100.1579, 100.0612,  99.9629,  99.969 , 100.0007, 100.1066, 100.0429, 100.0452,  99.8837])],\n",
              "      dtype=[('index', '<i8'), ('values_block_0', '<f8', (10,))])"
            ]
          },
          "metadata": {},
          "execution_count": 52
        }
      ],
      "source": [
        "h5.root.data.table[:3]"
      ]
    },
    {
      "cell_type": "code",
      "execution_count": 53,
      "id": "8e39cee7",
      "metadata": {
        "id": "8e39cee7"
      },
      "outputs": [],
      "source": [
        "h5.close()"
      ]
    },
    {
      "cell_type": "code",
      "execution_count": 55,
      "id": "3b71b001",
      "metadata": {
        "id": "3b71b001"
      },
      "outputs": [],
      "source": [
        "!rm data/data.h5"
      ]
    },
    {
      "cell_type": "markdown",
      "id": "991baf64",
      "metadata": {
        "id": "991baf64"
      },
      "source": [
        "#### TsTables package"
      ]
    },
    {
      "cell_type": "code",
      "execution_count": 56,
      "id": "bd9ef9ca",
      "metadata": {
        "colab": {
          "base_uri": "https://localhost:8080/"
        },
        "id": "bd9ef9ca",
        "outputId": "3633e805-ccdc-47d6-c38b-effc8c10b4de"
      },
      "outputs": [
        {
          "output_type": "stream",
          "name": "stdout",
          "text": [
            "CPU times: user 1.07 s, sys: 137 ms, total: 1.21 s\n",
            "Wall time: 1.2 s\n"
          ]
        }
      ],
      "source": [
        "%%time\n",
        "\n",
        "data = generate_sample_data(rows=2.5e6, cols=5, freq='1s').round(4)"
      ]
    },
    {
      "cell_type": "code",
      "execution_count": 57,
      "id": "fa263007",
      "metadata": {
        "colab": {
          "base_uri": "https://localhost:8080/"
        },
        "id": "fa263007",
        "outputId": "f03c3d0f-a45e-407f-d8ec-6d23747b7465"
      },
      "outputs": [
        {
          "output_type": "stream",
          "name": "stdout",
          "text": [
            "<class 'pandas.core.frame.DataFrame'>\n",
            "DatetimeIndex: 2500000 entries, 2021-01-01 00:00:00 to 2021-01-29 22:26:39\n",
            "Freq: S\n",
            "Data columns (total 5 columns):\n",
            " #   Column  Dtype  \n",
            "---  ------  -----  \n",
            " 0   No0     float64\n",
            " 1   No1     float64\n",
            " 2   No2     float64\n",
            " 3   No3     float64\n",
            " 4   No4     float64\n",
            "dtypes: float64(5)\n",
            "memory usage: 114.4 MB\n"
          ]
        }
      ],
      "source": [
        "data.info()"
      ]
    },
    {
      "cell_type": "code",
      "execution_count": 58,
      "id": "cfd3cb9b",
      "metadata": {
        "colab": {
          "base_uri": "https://localhost:8080/"
        },
        "id": "cfd3cb9b",
        "outputId": "9f3b0dd7-da60-404a-b679-9b7800a68f7c"
      },
      "outputs": [
        {
          "output_type": "stream",
          "name": "stdout",
          "text": [
            "Looking in indexes: https://pypi.org/simple, https://us-python.pkg.dev/colab-wheels/public/simple/\n",
            "Collecting git+https://github.com/yhilpisch/tstables.git\n",
            "  Cloning https://github.com/yhilpisch/tstables.git to /tmp/pip-req-build-mfpaa65n\n",
            "  Running command git clone -q https://github.com/yhilpisch/tstables.git /tmp/pip-req-build-mfpaa65n\n",
            "Requirement already satisfied: tables>=3.1.1 in /usr/local/lib/python3.7/dist-packages (from tstables==0.0.15) (3.7.0)\n",
            "Requirement already satisfied: pandas>=0.13.1 in /usr/local/lib/python3.7/dist-packages (from tstables==0.0.15) (1.3.5)\n",
            "Requirement already satisfied: pytz>=2017.3 in /usr/local/lib/python3.7/dist-packages (from pandas>=0.13.1->tstables==0.0.15) (2022.6)\n",
            "Requirement already satisfied: python-dateutil>=2.7.3 in /usr/local/lib/python3.7/dist-packages (from pandas>=0.13.1->tstables==0.0.15) (2.8.2)\n",
            "Requirement already satisfied: numpy>=1.17.3 in /usr/local/lib/python3.7/dist-packages (from pandas>=0.13.1->tstables==0.0.15) (1.21.6)\n",
            "Requirement already satisfied: six>=1.5 in /usr/local/lib/python3.7/dist-packages (from python-dateutil>=2.7.3->pandas>=0.13.1->tstables==0.0.15) (1.15.0)\n",
            "Requirement already satisfied: packaging in /usr/local/lib/python3.7/dist-packages (from tables>=3.1.1->tstables==0.0.15) (21.3)\n",
            "Requirement already satisfied: numexpr>=2.6.2 in /usr/local/lib/python3.7/dist-packages (from tables>=3.1.1->tstables==0.0.15) (2.8.4)\n",
            "Requirement already satisfied: pyparsing!=3.0.5,>=2.0.2 in /usr/local/lib/python3.7/dist-packages (from packaging->tables>=3.1.1->tstables==0.0.15) (3.0.9)\n",
            "Building wheels for collected packages: tstables\n",
            "  Building wheel for tstables (setup.py) ... \u001b[?25l\u001b[?25hdone\n",
            "  Created wheel for tstables: filename=tstables-0.0.15-py3-none-any.whl size=10323 sha256=0e42ad444f7698d4e57f457d4884356bdf12221c9233ec167326fbeead3ce4a2\n",
            "  Stored in directory: /tmp/pip-ephem-wheel-cache-6cqrz4mn/wheels/ea/3d/f4/01603f3ae4b8db9f85f4a17bc7aacbdb2eaf03375e25104b1c\n",
            "Successfully built tstables\n",
            "Installing collected packages: tstables\n",
            "Successfully installed tstables-0.0.15\n"
          ]
        }
      ],
      "source": [
        "#!pip install tstables\n",
        "#!pip uninstall tstables\n",
        "!pip install git+https://github.com/yhilpisch/tstables.git"
      ]
    },
    {
      "cell_type": "code",
      "execution_count": 59,
      "id": "7026b5f3",
      "metadata": {
        "id": "7026b5f3"
      },
      "outputs": [],
      "source": [
        "import tstables\n",
        "import tables as tb"
      ]
    },
    {
      "cell_type": "code",
      "execution_count": 60,
      "id": "c914c636",
      "metadata": {
        "id": "c914c636"
      },
      "outputs": [],
      "source": [
        "class desc(tb.IsDescription):\n",
        "    ''' Description of TsTables table structure.\n",
        "    '''\n",
        "    \n",
        "    timestamp = tb.Int64Col(pos=0)\n",
        "    No0 = tb.Float64Col(pos=1)\n",
        "    No1 = tb.Float64Col(pos=2)\n",
        "    No2 = tb.Float64Col(pos=3)\n",
        "    No3 = tb.Float64Col(pos=4)\n",
        "    No4 = tb.Float64Col(pos=5)"
      ]
    },
    {
      "cell_type": "code",
      "execution_count": 61,
      "id": "eb64b1f7",
      "metadata": {
        "id": "eb64b1f7"
      },
      "outputs": [],
      "source": [
        "h5.close()"
      ]
    },
    {
      "cell_type": "code",
      "execution_count": 62,
      "id": "779e5cb1",
      "metadata": {
        "id": "779e5cb1"
      },
      "outputs": [],
      "source": [
        "h5 = tb.open_file('data/data.h5ts', 'w')"
      ]
    },
    {
      "cell_type": "code",
      "execution_count": 63,
      "id": "4de60f6f",
      "metadata": {
        "id": "4de60f6f"
      },
      "outputs": [],
      "source": [
        "ts = h5.create_ts('/', 'data', desc)"
      ]
    },
    {
      "cell_type": "code",
      "execution_count": 64,
      "id": "13e709ed",
      "metadata": {
        "colab": {
          "base_uri": "https://localhost:8080/"
        },
        "id": "13e709ed",
        "outputId": "bba019ab-2ced-4455-d651-52793ba5b342"
      },
      "outputs": [
        {
          "output_type": "execute_result",
          "data": {
            "text/plain": [
              "tables.file.File"
            ]
          },
          "metadata": {},
          "execution_count": 64
        }
      ],
      "source": [
        "type(h5)"
      ]
    },
    {
      "cell_type": "code",
      "execution_count": 65,
      "id": "6b0a02ac",
      "metadata": {
        "colab": {
          "base_uri": "https://localhost:8080/"
        },
        "id": "6b0a02ac",
        "outputId": "355f1a77-4cb2-470b-9c1a-cf9d48df6ac4"
      },
      "outputs": [
        {
          "output_type": "execute_result",
          "data": {
            "text/plain": [
              "tstables.tstable.TsTable"
            ]
          },
          "metadata": {},
          "execution_count": 65
        }
      ],
      "source": [
        "type(ts)"
      ]
    },
    {
      "cell_type": "code",
      "execution_count": 66,
      "id": "58a031a2",
      "metadata": {
        "colab": {
          "base_uri": "https://localhost:8080/"
        },
        "id": "58a031a2",
        "outputId": "cf1f17da-ed01-4385-8482-b10827979966"
      },
      "outputs": [
        {
          "output_type": "execute_result",
          "data": {
            "text/plain": [
              "File(filename=data\\data.h5ts, title='', mode='w', root_uep='/', filters=Filters(complevel=0, shuffle=False, bitshuffle=False, fletcher32=False, least_significant_digit=None))\n",
              "/ (RootGroup) ''\n",
              "/data (Group/Timeseries) ''\n",
              "/data/y2022 (Group) ''\n",
              "/data/y2022/m11 (Group) ''\n",
              "/data/y2022/m11/d11 (Group) ''\n",
              "/data/y2022/m11/d11/ts_data (Table(0,)) ''\n",
              "  description := {\n",
              "  \"timestamp\": Int64Col(shape=(), dflt=0, pos=0),\n",
              "  \"No0\": Float64Col(shape=(), dflt=0.0, pos=1),\n",
              "  \"No1\": Float64Col(shape=(), dflt=0.0, pos=2),\n",
              "  \"No2\": Float64Col(shape=(), dflt=0.0, pos=3),\n",
              "  \"No3\": Float64Col(shape=(), dflt=0.0, pos=4),\n",
              "  \"No4\": Float64Col(shape=(), dflt=0.0, pos=5)}\n",
              "  byteorder := 'little'\n",
              "  chunkshape := (1365,)"
            ]
          },
          "metadata": {},
          "execution_count": 66
        }
      ],
      "source": [
        "h5"
      ]
    },
    {
      "cell_type": "code",
      "execution_count": 67,
      "id": "04872051",
      "metadata": {
        "colab": {
          "base_uri": "https://localhost:8080/"
        },
        "id": "04872051",
        "outputId": "15b45f53-b6f4-4804-8948-09acdf3444d2"
      },
      "outputs": [
        {
          "output_type": "execute_result",
          "data": {
            "text/plain": [
              "<tstables.tstable.TsTable at 0x7f771301fa50>"
            ]
          },
          "metadata": {},
          "execution_count": 67
        }
      ],
      "source": [
        "ts"
      ]
    },
    {
      "cell_type": "code",
      "execution_count": 68,
      "id": "2957fab2",
      "metadata": {
        "colab": {
          "base_uri": "https://localhost:8080/"
        },
        "id": "2957fab2",
        "outputId": "6ef287f6-380a-4297-c3dc-c2ba696df4b8"
      },
      "outputs": [
        {
          "output_type": "stream",
          "name": "stdout",
          "text": [
            "CPU times: user 586 ms, sys: 206 ms, total: 792 ms\n",
            "Wall time: 856 ms\n"
          ]
        }
      ],
      "source": [
        "%time ts.append(data)"
      ]
    },
    {
      "cell_type": "code",
      "execution_count": 69,
      "id": "6e367468",
      "metadata": {
        "colab": {
          "base_uri": "https://localhost:8080/"
        },
        "id": "6e367468",
        "outputId": "4f8920bb-9a84-4b59-ad6e-4e7720015f58"
      },
      "outputs": [
        {
          "output_type": "execute_result",
          "data": {
            "text/plain": [
              "File(filename=data\\data.h5ts, title='', mode='w', root_uep='/', filters=Filters(complevel=0, shuffle=False, bitshuffle=False, fletcher32=False, least_significant_digit=None))\n",
              "/ (RootGroup) ''\n",
              "/data (Group/Timeseries) ''\n",
              "/data/y2021 (Group) ''\n",
              "/data/y2022 (Group) ''\n",
              "/data/y2022/m11 (Group) ''\n",
              "/data/y2022/m11/d11 (Group) ''\n",
              "/data/y2022/m11/d11/ts_data (Table(0,)) ''\n",
              "  description := {\n",
              "  \"timestamp\": Int64Col(shape=(), dflt=0, pos=0),\n",
              "  \"No0\": Float64Col(shape=(), dflt=0.0, pos=1),\n",
              "  \"No1\": Float64Col(shape=(), dflt=0.0, pos=2),\n",
              "  \"No2\": Float64Col(shape=(), dflt=0.0, pos=3),\n",
              "  \"No3\": Float64Col(shape=(), dflt=0.0, pos=4),\n",
              "  \"No4\": Float64Col(shape=(), dflt=0.0, pos=5)}\n",
              "  byteorder := 'little'\n",
              "  chunkshape := (1365,)\n",
              "/data/y2021/m01 (Group) ''\n",
              "/data/y2021/m01/d01 (Group) ''\n",
              "/data/y2021/m01/d01/ts_data (Table(86400,)) ''\n",
              "  description := {\n",
              "  \"timestamp\": Int64Col(shape=(), dflt=0, pos=0),\n",
              "  \"No0\": Float64Col(shape=(), dflt=0.0, pos=1),\n",
              "  \"No1\": Float64Col(shape=(), dflt=0.0, pos=2),\n",
              "  \"No2\": Float64Col(shape=(), dflt=0.0, pos=3),\n",
              "  \"No3\": Float64Col(shape=(), dflt=0.0, pos=4),\n",
              "  \"No4\": Float64Col(shape=(), dflt=0.0, pos=5)}\n",
              "  byteorder := 'little'\n",
              "  chunkshape := (1365,)\n",
              "/data/y2021/m01/d02 (Group) ''\n",
              "/data/y2021/m01/d02/ts_data (Table(86400,)) ''\n",
              "  description := {\n",
              "  \"timestamp\": Int64Col(shape=(), dflt=0, pos=0),\n",
              "  \"No0\": Float64Col(shape=(), dflt=0.0, pos=1),\n",
              "  \"No1\": Float64Col(shape=(), dflt=0.0, pos=2),\n",
              "  \"No2\": Float64Col(shape=(), dflt=0.0, pos=3),\n",
              "  \"No3\": Float64Col(shape=(), dflt=0.0, pos=4),\n",
              "  \"No4\": Float64Col(shape=(), dflt=0.0, pos=5)}\n",
              "  byteorder := 'little'\n",
              "  chunkshape := (1365,)\n",
              "/data/y2021/m01/d03 (Group) ''\n",
              "/data/y2021/m01/d03/ts_data (Table(86400,)) ''\n",
              "  description := {\n",
              "  \"timestamp\": Int64Col(shape=(), dflt=0, pos=0),\n",
              "  \"No0\": Float64Col(shape=(), dflt=0.0, pos=1),\n",
              "  \"No1\": Float64Col(shape=(), dflt=0.0, pos=2),\n",
              "  \"No2\": Float64Col(shape=(), dflt=0.0, pos=3),\n",
              "  \"No3\": Float64Col(shape=(), dflt=0.0, pos=4),\n",
              "  \"No4\": Float64Col(shape=(), dflt=0.0, pos=5)}\n",
              "  byteorder := 'little'\n",
              "  chunkshape := (1365,)\n",
              "/data/y2021/m01/d04 (Group) ''\n",
              "/data/y2021/m01/d04/ts_data (Table(86400,)) ''\n",
              "  description := {\n",
              "  \"timestamp\": Int64Col(shape=(), dflt=0, pos=0),\n",
              "  \"No0\": Float64Col(shape=(), dflt=0.0, pos=1),\n",
              "  \"No1\": Float64Col(shape=(), dflt=0.0, pos=2),\n",
              "  \"No2\": Float64Col(shape=(), dflt=0.0, pos=3),\n",
              "  \"No3\": Float64Col(shape=(), dflt=0.0, pos=4),\n",
              "  \"No4\": Float64Col(shape=(), dflt=0.0, pos=5)}\n",
              "  byteorder := 'little'\n",
              "  chunkshape := (1365,)\n",
              "/data/y2021/m01/d05 (Group) ''\n",
              "/data/y2021/m01/d05/ts_data (Table(86400,)) ''\n",
              "  description := {\n",
              "  \"timestamp\": Int64Col(shape=(), dflt=0, pos=0),\n",
              "  \"No0\": Float64Col(shape=(), dflt=0.0, pos=1),\n",
              "  \"No1\": Float64Col(shape=(), dflt=0.0, pos=2),\n",
              "  \"No2\": Float64Col(shape=(), dflt=0.0, pos=3),\n",
              "  \"No3\": Float64Col(shape=(), dflt=0.0, pos=4),\n",
              "  \"No4\": Float64Col(shape=(), dflt=0.0, pos=5)}\n",
              "  byteorder := 'little'\n",
              "  chunkshape := (1365,)\n",
              "/data/y2021/m01/d06 (Group) ''\n",
              "/data/y2021/m01/d06/ts_data (Table(86400,)) ''\n",
              "  description := {\n",
              "  \"timestamp\": Int64Col(shape=(), dflt=0, pos=0),\n",
              "  \"No0\": Float64Col(shape=(), dflt=0.0, pos=1),\n",
              "  \"No1\": Float64Col(shape=(), dflt=0.0, pos=2),\n",
              "  \"No2\": Float64Col(shape=(), dflt=0.0, pos=3),\n",
              "  \"No3\": Float64Col(shape=(), dflt=0.0, pos=4),\n",
              "  \"No4\": Float64Col(shape=(), dflt=0.0, pos=5)}\n",
              "  byteorder := 'little'\n",
              "  chunkshape := (1365,)\n",
              "/data/y2021/m01/d07 (Group) ''\n",
              "/data/y2021/m01/d07/ts_data (Table(86400,)) ''\n",
              "  description := {\n",
              "  \"timestamp\": Int64Col(shape=(), dflt=0, pos=0),\n",
              "  \"No0\": Float64Col(shape=(), dflt=0.0, pos=1),\n",
              "  \"No1\": Float64Col(shape=(), dflt=0.0, pos=2),\n",
              "  \"No2\": Float64Col(shape=(), dflt=0.0, pos=3),\n",
              "  \"No3\": Float64Col(shape=(), dflt=0.0, pos=4),\n",
              "  \"No4\": Float64Col(shape=(), dflt=0.0, pos=5)}\n",
              "  byteorder := 'little'\n",
              "  chunkshape := (1365,)\n",
              "/data/y2021/m01/d08 (Group) ''\n",
              "/data/y2021/m01/d08/ts_data (Table(86400,)) ''\n",
              "  description := {\n",
              "  \"timestamp\": Int64Col(shape=(), dflt=0, pos=0),\n",
              "  \"No0\": Float64Col(shape=(), dflt=0.0, pos=1),\n",
              "  \"No1\": Float64Col(shape=(), dflt=0.0, pos=2),\n",
              "  \"No2\": Float64Col(shape=(), dflt=0.0, pos=3),\n",
              "  \"No3\": Float64Col(shape=(), dflt=0.0, pos=4),\n",
              "  \"No4\": Float64Col(shape=(), dflt=0.0, pos=5)}\n",
              "  byteorder := 'little'\n",
              "  chunkshape := (1365,)\n",
              "/data/y2021/m01/d09 (Group) ''\n",
              "/data/y2021/m01/d09/ts_data (Table(86400,)) ''\n",
              "  description := {\n",
              "  \"timestamp\": Int64Col(shape=(), dflt=0, pos=0),\n",
              "  \"No0\": Float64Col(shape=(), dflt=0.0, pos=1),\n",
              "  \"No1\": Float64Col(shape=(), dflt=0.0, pos=2),\n",
              "  \"No2\": Float64Col(shape=(), dflt=0.0, pos=3),\n",
              "  \"No3\": Float64Col(shape=(), dflt=0.0, pos=4),\n",
              "  \"No4\": Float64Col(shape=(), dflt=0.0, pos=5)}\n",
              "  byteorder := 'little'\n",
              "  chunkshape := (1365,)\n",
              "/data/y2021/m01/d10 (Group) ''\n",
              "/data/y2021/m01/d10/ts_data (Table(86400,)) ''\n",
              "  description := {\n",
              "  \"timestamp\": Int64Col(shape=(), dflt=0, pos=0),\n",
              "  \"No0\": Float64Col(shape=(), dflt=0.0, pos=1),\n",
              "  \"No1\": Float64Col(shape=(), dflt=0.0, pos=2),\n",
              "  \"No2\": Float64Col(shape=(), dflt=0.0, pos=3),\n",
              "  \"No3\": Float64Col(shape=(), dflt=0.0, pos=4),\n",
              "  \"No4\": Float64Col(shape=(), dflt=0.0, pos=5)}\n",
              "  byteorder := 'little'\n",
              "  chunkshape := (1365,)\n",
              "/data/y2021/m01/d11 (Group) ''\n",
              "/data/y2021/m01/d11/ts_data (Table(86400,)) ''\n",
              "  description := {\n",
              "  \"timestamp\": Int64Col(shape=(), dflt=0, pos=0),\n",
              "  \"No0\": Float64Col(shape=(), dflt=0.0, pos=1),\n",
              "  \"No1\": Float64Col(shape=(), dflt=0.0, pos=2),\n",
              "  \"No2\": Float64Col(shape=(), dflt=0.0, pos=3),\n",
              "  \"No3\": Float64Col(shape=(), dflt=0.0, pos=4),\n",
              "  \"No4\": Float64Col(shape=(), dflt=0.0, pos=5)}\n",
              "  byteorder := 'little'\n",
              "  chunkshape := (1365,)\n",
              "/data/y2021/m01/d12 (Group) ''\n",
              "/data/y2021/m01/d12/ts_data (Table(86400,)) ''\n",
              "  description := {\n",
              "  \"timestamp\": Int64Col(shape=(), dflt=0, pos=0),\n",
              "  \"No0\": Float64Col(shape=(), dflt=0.0, pos=1),\n",
              "  \"No1\": Float64Col(shape=(), dflt=0.0, pos=2),\n",
              "  \"No2\": Float64Col(shape=(), dflt=0.0, pos=3),\n",
              "  \"No3\": Float64Col(shape=(), dflt=0.0, pos=4),\n",
              "  \"No4\": Float64Col(shape=(), dflt=0.0, pos=5)}\n",
              "  byteorder := 'little'\n",
              "  chunkshape := (1365,)\n",
              "/data/y2021/m01/d13 (Group) ''\n",
              "/data/y2021/m01/d13/ts_data (Table(86400,)) ''\n",
              "  description := {\n",
              "  \"timestamp\": Int64Col(shape=(), dflt=0, pos=0),\n",
              "  \"No0\": Float64Col(shape=(), dflt=0.0, pos=1),\n",
              "  \"No1\": Float64Col(shape=(), dflt=0.0, pos=2),\n",
              "  \"No2\": Float64Col(shape=(), dflt=0.0, pos=3),\n",
              "  \"No3\": Float64Col(shape=(), dflt=0.0, pos=4),\n",
              "  \"No4\": Float64Col(shape=(), dflt=0.0, pos=5)}\n",
              "  byteorder := 'little'\n",
              "  chunkshape := (1365,)\n",
              "/data/y2021/m01/d14 (Group) ''\n",
              "/data/y2021/m01/d14/ts_data (Table(86400,)) ''\n",
              "  description := {\n",
              "  \"timestamp\": Int64Col(shape=(), dflt=0, pos=0),\n",
              "  \"No0\": Float64Col(shape=(), dflt=0.0, pos=1),\n",
              "  \"No1\": Float64Col(shape=(), dflt=0.0, pos=2),\n",
              "  \"No2\": Float64Col(shape=(), dflt=0.0, pos=3),\n",
              "  \"No3\": Float64Col(shape=(), dflt=0.0, pos=4),\n",
              "  \"No4\": Float64Col(shape=(), dflt=0.0, pos=5)}\n",
              "  byteorder := 'little'\n",
              "  chunkshape := (1365,)\n",
              "/data/y2021/m01/d15 (Group) ''\n",
              "/data/y2021/m01/d15/ts_data (Table(86400,)) ''\n",
              "  description := {\n",
              "  \"timestamp\": Int64Col(shape=(), dflt=0, pos=0),\n",
              "  \"No0\": Float64Col(shape=(), dflt=0.0, pos=1),\n",
              "  \"No1\": Float64Col(shape=(), dflt=0.0, pos=2),\n",
              "  \"No2\": Float64Col(shape=(), dflt=0.0, pos=3),\n",
              "  \"No3\": Float64Col(shape=(), dflt=0.0, pos=4),\n",
              "  \"No4\": Float64Col(shape=(), dflt=0.0, pos=5)}\n",
              "  byteorder := 'little'\n",
              "  chunkshape := (1365,)\n",
              "/data/y2021/m01/d16 (Group) ''\n",
              "/data/y2021/m01/d16/ts_data (Table(86400,)) ''\n",
              "  description := {\n",
              "  \"timestamp\": Int64Col(shape=(), dflt=0, pos=0),\n",
              "  \"No0\": Float64Col(shape=(), dflt=0.0, pos=1),\n",
              "  \"No1\": Float64Col(shape=(), dflt=0.0, pos=2),\n",
              "  \"No2\": Float64Col(shape=(), dflt=0.0, pos=3),\n",
              "  \"No3\": Float64Col(shape=(), dflt=0.0, pos=4),\n",
              "  \"No4\": Float64Col(shape=(), dflt=0.0, pos=5)}\n",
              "  byteorder := 'little'\n",
              "  chunkshape := (1365,)\n",
              "/data/y2021/m01/d17 (Group) ''\n",
              "/data/y2021/m01/d17/ts_data (Table(86400,)) ''\n",
              "  description := {\n",
              "  \"timestamp\": Int64Col(shape=(), dflt=0, pos=0),\n",
              "  \"No0\": Float64Col(shape=(), dflt=0.0, pos=1),\n",
              "  \"No1\": Float64Col(shape=(), dflt=0.0, pos=2),\n",
              "  \"No2\": Float64Col(shape=(), dflt=0.0, pos=3),\n",
              "  \"No3\": Float64Col(shape=(), dflt=0.0, pos=4),\n",
              "  \"No4\": Float64Col(shape=(), dflt=0.0, pos=5)}\n",
              "  byteorder := 'little'\n",
              "  chunkshape := (1365,)\n",
              "/data/y2021/m01/d18 (Group) ''\n",
              "/data/y2021/m01/d18/ts_data (Table(86400,)) ''\n",
              "  description := {\n",
              "  \"timestamp\": Int64Col(shape=(), dflt=0, pos=0),\n",
              "  \"No0\": Float64Col(shape=(), dflt=0.0, pos=1),\n",
              "  \"No1\": Float64Col(shape=(), dflt=0.0, pos=2),\n",
              "  \"No2\": Float64Col(shape=(), dflt=0.0, pos=3),\n",
              "  \"No3\": Float64Col(shape=(), dflt=0.0, pos=4),\n",
              "  \"No4\": Float64Col(shape=(), dflt=0.0, pos=5)}\n",
              "  byteorder := 'little'\n",
              "  chunkshape := (1365,)\n",
              "/data/y2021/m01/d19 (Group) ''\n",
              "/data/y2021/m01/d19/ts_data (Table(86400,)) ''\n",
              "  description := {\n",
              "  \"timestamp\": Int64Col(shape=(), dflt=0, pos=0),\n",
              "  \"No0\": Float64Col(shape=(), dflt=0.0, pos=1),\n",
              "  \"No1\": Float64Col(shape=(), dflt=0.0, pos=2),\n",
              "  \"No2\": Float64Col(shape=(), dflt=0.0, pos=3),\n",
              "  \"No3\": Float64Col(shape=(), dflt=0.0, pos=4),\n",
              "  \"No4\": Float64Col(shape=(), dflt=0.0, pos=5)}\n",
              "  byteorder := 'little'\n",
              "  chunkshape := (1365,)\n",
              "/data/y2021/m01/d20 (Group) ''\n",
              "/data/y2021/m01/d20/ts_data (Table(86400,)) ''\n",
              "  description := {\n",
              "  \"timestamp\": Int64Col(shape=(), dflt=0, pos=0),\n",
              "  \"No0\": Float64Col(shape=(), dflt=0.0, pos=1),\n",
              "  \"No1\": Float64Col(shape=(), dflt=0.0, pos=2),\n",
              "  \"No2\": Float64Col(shape=(), dflt=0.0, pos=3),\n",
              "  \"No3\": Float64Col(shape=(), dflt=0.0, pos=4),\n",
              "  \"No4\": Float64Col(shape=(), dflt=0.0, pos=5)}\n",
              "  byteorder := 'little'\n",
              "  chunkshape := (1365,)\n",
              "/data/y2021/m01/d21 (Group) ''\n",
              "/data/y2021/m01/d21/ts_data (Table(86400,)) ''\n",
              "  description := {\n",
              "  \"timestamp\": Int64Col(shape=(), dflt=0, pos=0),\n",
              "  \"No0\": Float64Col(shape=(), dflt=0.0, pos=1),\n",
              "  \"No1\": Float64Col(shape=(), dflt=0.0, pos=2),\n",
              "  \"No2\": Float64Col(shape=(), dflt=0.0, pos=3),\n",
              "  \"No3\": Float64Col(shape=(), dflt=0.0, pos=4),\n",
              "  \"No4\": Float64Col(shape=(), dflt=0.0, pos=5)}\n",
              "  byteorder := 'little'\n",
              "  chunkshape := (1365,)\n",
              "/data/y2021/m01/d22 (Group) ''\n",
              "/data/y2021/m01/d22/ts_data (Table(86400,)) ''\n",
              "  description := {\n",
              "  \"timestamp\": Int64Col(shape=(), dflt=0, pos=0),\n",
              "  \"No0\": Float64Col(shape=(), dflt=0.0, pos=1),\n",
              "  \"No1\": Float64Col(shape=(), dflt=0.0, pos=2),\n",
              "  \"No2\": Float64Col(shape=(), dflt=0.0, pos=3),\n",
              "  \"No3\": Float64Col(shape=(), dflt=0.0, pos=4),\n",
              "  \"No4\": Float64Col(shape=(), dflt=0.0, pos=5)}\n",
              "  byteorder := 'little'\n",
              "  chunkshape := (1365,)\n",
              "/data/y2021/m01/d23 (Group) ''\n",
              "/data/y2021/m01/d23/ts_data (Table(86400,)) ''\n",
              "  description := {\n",
              "  \"timestamp\": Int64Col(shape=(), dflt=0, pos=0),\n",
              "  \"No0\": Float64Col(shape=(), dflt=0.0, pos=1),\n",
              "  \"No1\": Float64Col(shape=(), dflt=0.0, pos=2),\n",
              "  \"No2\": Float64Col(shape=(), dflt=0.0, pos=3),\n",
              "  \"No3\": Float64Col(shape=(), dflt=0.0, pos=4),\n",
              "  \"No4\": Float64Col(shape=(), dflt=0.0, pos=5)}\n",
              "  byteorder := 'little'\n",
              "  chunkshape := (1365,)\n",
              "/data/y2021/m01/d24 (Group) ''\n",
              "/data/y2021/m01/d24/ts_data (Table(86400,)) ''\n",
              "  description := {\n",
              "  \"timestamp\": Int64Col(shape=(), dflt=0, pos=0),\n",
              "  \"No0\": Float64Col(shape=(), dflt=0.0, pos=1),\n",
              "  \"No1\": Float64Col(shape=(), dflt=0.0, pos=2),\n",
              "  \"No2\": Float64Col(shape=(), dflt=0.0, pos=3),\n",
              "  \"No3\": Float64Col(shape=(), dflt=0.0, pos=4),\n",
              "  \"No4\": Float64Col(shape=(), dflt=0.0, pos=5)}\n",
              "  byteorder := 'little'\n",
              "  chunkshape := (1365,)\n",
              "/data/y2021/m01/d25 (Group) ''\n",
              "/data/y2021/m01/d25/ts_data (Table(86400,)) ''\n",
              "  description := {\n",
              "  \"timestamp\": Int64Col(shape=(), dflt=0, pos=0),\n",
              "  \"No0\": Float64Col(shape=(), dflt=0.0, pos=1),\n",
              "  \"No1\": Float64Col(shape=(), dflt=0.0, pos=2),\n",
              "  \"No2\": Float64Col(shape=(), dflt=0.0, pos=3),\n",
              "  \"No3\": Float64Col(shape=(), dflt=0.0, pos=4),\n",
              "  \"No4\": Float64Col(shape=(), dflt=0.0, pos=5)}\n",
              "  byteorder := 'little'\n",
              "  chunkshape := (1365,)\n",
              "/data/y2021/m01/d26 (Group) ''\n",
              "/data/y2021/m01/d26/ts_data (Table(86400,)) ''\n",
              "  description := {\n",
              "  \"timestamp\": Int64Col(shape=(), dflt=0, pos=0),\n",
              "  \"No0\": Float64Col(shape=(), dflt=0.0, pos=1),\n",
              "  \"No1\": Float64Col(shape=(), dflt=0.0, pos=2),\n",
              "  \"No2\": Float64Col(shape=(), dflt=0.0, pos=3),\n",
              "  \"No3\": Float64Col(shape=(), dflt=0.0, pos=4),\n",
              "  \"No4\": Float64Col(shape=(), dflt=0.0, pos=5)}\n",
              "  byteorder := 'little'\n",
              "  chunkshape := (1365,)\n",
              "/data/y2021/m01/d27 (Group) ''\n",
              "/data/y2021/m01/d27/ts_data (Table(86400,)) ''\n",
              "  description := {\n",
              "  \"timestamp\": Int64Col(shape=(), dflt=0, pos=0),\n",
              "  \"No0\": Float64Col(shape=(), dflt=0.0, pos=1),\n",
              "  \"No1\": Float64Col(shape=(), dflt=0.0, pos=2),\n",
              "  \"No2\": Float64Col(shape=(), dflt=0.0, pos=3),\n",
              "  \"No3\": Float64Col(shape=(), dflt=0.0, pos=4),\n",
              "  \"No4\": Float64Col(shape=(), dflt=0.0, pos=5)}\n",
              "  byteorder := 'little'\n",
              "  chunkshape := (1365,)\n",
              "/data/y2021/m01/d28 (Group) ''\n",
              "/data/y2021/m01/d28/ts_data (Table(86400,)) ''\n",
              "  description := {\n",
              "  \"timestamp\": Int64Col(shape=(), dflt=0, pos=0),\n",
              "  \"No0\": Float64Col(shape=(), dflt=0.0, pos=1),\n",
              "  \"No1\": Float64Col(shape=(), dflt=0.0, pos=2),\n",
              "  \"No2\": Float64Col(shape=(), dflt=0.0, pos=3),\n",
              "  \"No3\": Float64Col(shape=(), dflt=0.0, pos=4),\n",
              "  \"No4\": Float64Col(shape=(), dflt=0.0, pos=5)}\n",
              "  byteorder := 'little'\n",
              "  chunkshape := (1365,)\n",
              "/data/y2021/m01/d29 (Group) ''\n",
              "/data/y2021/m01/d29/ts_data (Table(80800,)) ''\n",
              "  description := {\n",
              "  \"timestamp\": Int64Col(shape=(), dflt=0, pos=0),\n",
              "  \"No0\": Float64Col(shape=(), dflt=0.0, pos=1),\n",
              "  \"No1\": Float64Col(shape=(), dflt=0.0, pos=2),\n",
              "  \"No2\": Float64Col(shape=(), dflt=0.0, pos=3),\n",
              "  \"No3\": Float64Col(shape=(), dflt=0.0, pos=4),\n",
              "  \"No4\": Float64Col(shape=(), dflt=0.0, pos=5)}\n",
              "  byteorder := 'little'\n",
              "  chunkshape := (1365,)"
            ]
          },
          "metadata": {},
          "execution_count": 69
        }
      ],
      "source": [
        "h5"
      ]
    },
    {
      "cell_type": "code",
      "source": [
        "import datetime"
      ],
      "metadata": {
        "id": "NzAgCdaeFaKW"
      },
      "id": "NzAgCdaeFaKW",
      "execution_count": 70,
      "outputs": []
    },
    {
      "cell_type": "code",
      "source": [
        "start = datetime.datetime(2021, 1, 2)"
      ],
      "metadata": {
        "id": "w5X9ReD8FnP9"
      },
      "id": "w5X9ReD8FnP9",
      "execution_count": 71,
      "outputs": []
    },
    {
      "cell_type": "code",
      "source": [
        "end = datetime.datetime(2021, 1, 5, 17, 15, 30)"
      ],
      "metadata": {
        "id": "RtrFrs4hFr7R"
      },
      "id": "RtrFrs4hFr7R",
      "execution_count": 72,
      "outputs": []
    },
    {
      "cell_type": "code",
      "source": [
        "%time subset = ts.read_range(start, end)"
      ],
      "metadata": {
        "colab": {
          "base_uri": "https://localhost:8080/"
        },
        "id": "2bP8M9ijKTvK",
        "outputId": "e073702c-df12-41f3-f5c0-b92576284e7a"
      },
      "id": "2bP8M9ijKTvK",
      "execution_count": 75,
      "outputs": [
        {
          "output_type": "stream",
          "name": "stdout",
          "text": [
            "CPU times: user 94.2 ms, sys: 21.9 ms, total: 116 ms\n",
            "Wall time: 118 ms\n"
          ]
        }
      ]
    },
    {
      "cell_type": "code",
      "source": [
        "subset.info()"
      ],
      "metadata": {
        "colab": {
          "base_uri": "https://localhost:8080/"
        },
        "id": "U7-qz3lPKVHJ",
        "outputId": "de7cdcd5-4e1f-4470-fcea-391b17662ecf"
      },
      "id": "U7-qz3lPKVHJ",
      "execution_count": 76,
      "outputs": [
        {
          "output_type": "stream",
          "name": "stdout",
          "text": [
            "<class 'pandas.core.frame.DataFrame'>\n",
            "DatetimeIndex: 321331 entries, 2021-01-02 00:00:00 to 2021-01-05 17:15:30\n",
            "Data columns (total 5 columns):\n",
            " #   Column  Non-Null Count   Dtype  \n",
            "---  ------  --------------   -----  \n",
            " 0   No0     321331 non-null  float64\n",
            " 1   No1     321331 non-null  float64\n",
            " 2   No2     321331 non-null  float64\n",
            " 3   No3     321331 non-null  float64\n",
            " 4   No4     321331 non-null  float64\n",
            "dtypes: float64(5)\n",
            "memory usage: 14.7 MB\n"
          ]
        }
      ]
    },
    {
      "cell_type": "code",
      "source": [
        "h5.close()"
      ],
      "metadata": {
        "id": "XpiGRUGUK655"
      },
      "id": "XpiGRUGUK655",
      "execution_count": 77,
      "outputs": []
    },
    {
      "cell_type": "code",
      "source": [
        "!rm data\\*"
      ],
      "metadata": {
        "colab": {
          "base_uri": "https://localhost:8080/"
        },
        "id": "yj3BT99FLHsA",
        "outputId": "09a0aeef-a000-46f2-efee-9b2950d68eda"
      },
      "id": "yj3BT99FLHsA",
      "execution_count": 83,
      "outputs": [
        {
          "output_type": "stream",
          "name": "stdout",
          "text": [
            "rm: cannot remove 'data*': No such file or directory\n"
          ]
        }
      ]
    },
    {
      "cell_type": "code",
      "source": [
        "#@title Storing Data with SQLite3"
      ],
      "metadata": {
        "id": "wHz5tZxgLLwp"
      },
      "id": "wHz5tZxgLLwp",
      "execution_count": 84,
      "outputs": []
    },
    {
      "cell_type": "code",
      "source": [
        "%time data = generate_sample_data(1e6, 5, '1min').round(4)"
      ],
      "metadata": {
        "colab": {
          "base_uri": "https://localhost:8080/"
        },
        "id": "fyPnnYyvOOl3",
        "outputId": "14d80042-5c37-4eac-d5f2-c16692ca5eed"
      },
      "id": "fyPnnYyvOOl3",
      "execution_count": 85,
      "outputs": [
        {
          "output_type": "stream",
          "name": "stdout",
          "text": [
            "CPU times: user 538 ms, sys: 165 ms, total: 703 ms\n",
            "Wall time: 769 ms\n"
          ]
        }
      ]
    },
    {
      "cell_type": "code",
      "source": [
        "data[:5]"
      ],
      "metadata": {
        "colab": {
          "base_uri": "https://localhost:8080/",
          "height": 206
        },
        "id": "lVMNhvEsO0yt",
        "outputId": "794ce8a7-ea19-4216-e3b4-892be8ee06e8"
      },
      "id": "lVMNhvEsO0yt",
      "execution_count": 87,
      "outputs": [
        {
          "output_type": "execute_result",
          "data": {
            "text/plain": [
              "                          No0       No1       No2       No3       No4\n",
              "2021-01-01 00:00:00  100.0000  100.0000  100.0000  100.0000  100.0000\n",
              "2021-01-01 00:01:00  100.0633  100.0563  100.0992   99.8188   99.9369\n",
              "2021-01-01 00:02:00  100.0415  100.0105   99.9639   99.7978   99.9170\n",
              "2021-01-01 00:03:00  100.0425  100.0177  100.0473   99.7706   99.8420\n",
              "2021-01-01 00:04:00  100.0324  100.0437  100.1108   99.6923   99.7392"
            ],
            "text/html": [
              "\n",
              "  <div id=\"df-e72d3427-1aeb-451d-9c57-d94846f4c3a9\">\n",
              "    <div class=\"colab-df-container\">\n",
              "      <div>\n",
              "<style scoped>\n",
              "    .dataframe tbody tr th:only-of-type {\n",
              "        vertical-align: middle;\n",
              "    }\n",
              "\n",
              "    .dataframe tbody tr th {\n",
              "        vertical-align: top;\n",
              "    }\n",
              "\n",
              "    .dataframe thead th {\n",
              "        text-align: right;\n",
              "    }\n",
              "</style>\n",
              "<table border=\"1\" class=\"dataframe\">\n",
              "  <thead>\n",
              "    <tr style=\"text-align: right;\">\n",
              "      <th></th>\n",
              "      <th>No0</th>\n",
              "      <th>No1</th>\n",
              "      <th>No2</th>\n",
              "      <th>No3</th>\n",
              "      <th>No4</th>\n",
              "    </tr>\n",
              "  </thead>\n",
              "  <tbody>\n",
              "    <tr>\n",
              "      <th>2021-01-01 00:00:00</th>\n",
              "      <td>100.0000</td>\n",
              "      <td>100.0000</td>\n",
              "      <td>100.0000</td>\n",
              "      <td>100.0000</td>\n",
              "      <td>100.0000</td>\n",
              "    </tr>\n",
              "    <tr>\n",
              "      <th>2021-01-01 00:01:00</th>\n",
              "      <td>100.0633</td>\n",
              "      <td>100.0563</td>\n",
              "      <td>100.0992</td>\n",
              "      <td>99.8188</td>\n",
              "      <td>99.9369</td>\n",
              "    </tr>\n",
              "    <tr>\n",
              "      <th>2021-01-01 00:02:00</th>\n",
              "      <td>100.0415</td>\n",
              "      <td>100.0105</td>\n",
              "      <td>99.9639</td>\n",
              "      <td>99.7978</td>\n",
              "      <td>99.9170</td>\n",
              "    </tr>\n",
              "    <tr>\n",
              "      <th>2021-01-01 00:03:00</th>\n",
              "      <td>100.0425</td>\n",
              "      <td>100.0177</td>\n",
              "      <td>100.0473</td>\n",
              "      <td>99.7706</td>\n",
              "      <td>99.8420</td>\n",
              "    </tr>\n",
              "    <tr>\n",
              "      <th>2021-01-01 00:04:00</th>\n",
              "      <td>100.0324</td>\n",
              "      <td>100.0437</td>\n",
              "      <td>100.1108</td>\n",
              "      <td>99.6923</td>\n",
              "      <td>99.7392</td>\n",
              "    </tr>\n",
              "  </tbody>\n",
              "</table>\n",
              "</div>\n",
              "      <button class=\"colab-df-convert\" onclick=\"convertToInteractive('df-e72d3427-1aeb-451d-9c57-d94846f4c3a9')\"\n",
              "              title=\"Convert this dataframe to an interactive table.\"\n",
              "              style=\"display:none;\">\n",
              "        \n",
              "  <svg xmlns=\"http://www.w3.org/2000/svg\" height=\"24px\"viewBox=\"0 0 24 24\"\n",
              "       width=\"24px\">\n",
              "    <path d=\"M0 0h24v24H0V0z\" fill=\"none\"/>\n",
              "    <path d=\"M18.56 5.44l.94 2.06.94-2.06 2.06-.94-2.06-.94-.94-2.06-.94 2.06-2.06.94zm-11 1L8.5 8.5l.94-2.06 2.06-.94-2.06-.94L8.5 2.5l-.94 2.06-2.06.94zm10 10l.94 2.06.94-2.06 2.06-.94-2.06-.94-.94-2.06-.94 2.06-2.06.94z\"/><path d=\"M17.41 7.96l-1.37-1.37c-.4-.4-.92-.59-1.43-.59-.52 0-1.04.2-1.43.59L10.3 9.45l-7.72 7.72c-.78.78-.78 2.05 0 2.83L4 21.41c.39.39.9.59 1.41.59.51 0 1.02-.2 1.41-.59l7.78-7.78 2.81-2.81c.8-.78.8-2.07 0-2.86zM5.41 20L4 18.59l7.72-7.72 1.47 1.35L5.41 20z\"/>\n",
              "  </svg>\n",
              "      </button>\n",
              "      \n",
              "  <style>\n",
              "    .colab-df-container {\n",
              "      display:flex;\n",
              "      flex-wrap:wrap;\n",
              "      gap: 12px;\n",
              "    }\n",
              "\n",
              "    .colab-df-convert {\n",
              "      background-color: #E8F0FE;\n",
              "      border: none;\n",
              "      border-radius: 50%;\n",
              "      cursor: pointer;\n",
              "      display: none;\n",
              "      fill: #1967D2;\n",
              "      height: 32px;\n",
              "      padding: 0 0 0 0;\n",
              "      width: 32px;\n",
              "    }\n",
              "\n",
              "    .colab-df-convert:hover {\n",
              "      background-color: #E2EBFA;\n",
              "      box-shadow: 0px 1px 2px rgba(60, 64, 67, 0.3), 0px 1px 3px 1px rgba(60, 64, 67, 0.15);\n",
              "      fill: #174EA6;\n",
              "    }\n",
              "\n",
              "    [theme=dark] .colab-df-convert {\n",
              "      background-color: #3B4455;\n",
              "      fill: #D2E3FC;\n",
              "    }\n",
              "\n",
              "    [theme=dark] .colab-df-convert:hover {\n",
              "      background-color: #434B5C;\n",
              "      box-shadow: 0px 1px 3px 1px rgba(0, 0, 0, 0.15);\n",
              "      filter: drop-shadow(0px 1px 2px rgba(0, 0, 0, 0.3));\n",
              "      fill: #FFFFFF;\n",
              "    }\n",
              "  </style>\n",
              "\n",
              "      <script>\n",
              "        const buttonEl =\n",
              "          document.querySelector('#df-e72d3427-1aeb-451d-9c57-d94846f4c3a9 button.colab-df-convert');\n",
              "        buttonEl.style.display =\n",
              "          google.colab.kernel.accessAllowed ? 'block' : 'none';\n",
              "\n",
              "        async function convertToInteractive(key) {\n",
              "          const element = document.querySelector('#df-e72d3427-1aeb-451d-9c57-d94846f4c3a9');\n",
              "          const dataTable =\n",
              "            await google.colab.kernel.invokeFunction('convertToInteractive',\n",
              "                                                     [key], {});\n",
              "          if (!dataTable) return;\n",
              "\n",
              "          const docLinkHtml = 'Like what you see? Visit the ' +\n",
              "            '<a target=\"_blank\" href=https://colab.research.google.com/notebooks/data_table.ipynb>data table notebook</a>'\n",
              "            + ' to learn more about interactive tables.';\n",
              "          element.innerHTML = '';\n",
              "          dataTable['output_type'] = 'display_data';\n",
              "          await google.colab.output.renderOutput(dataTable, element);\n",
              "          const docLink = document.createElement('div');\n",
              "          docLink.innerHTML = docLinkHtml;\n",
              "          element.appendChild(docLink);\n",
              "        }\n",
              "      </script>\n",
              "    </div>\n",
              "  </div>\n",
              "  "
            ]
          },
          "metadata": {},
          "execution_count": 87
        }
      ]
    },
    {
      "cell_type": "code",
      "source": [
        "data.info()"
      ],
      "metadata": {
        "colab": {
          "base_uri": "https://localhost:8080/"
        },
        "id": "Fxg24ajiO4VU",
        "outputId": "b6acacdc-9a0a-422e-c214-ce723f37e7d2"
      },
      "id": "Fxg24ajiO4VU",
      "execution_count": 88,
      "outputs": [
        {
          "output_type": "stream",
          "name": "stdout",
          "text": [
            "<class 'pandas.core.frame.DataFrame'>\n",
            "DatetimeIndex: 1000000 entries, 2021-01-01 00:00:00 to 2022-11-26 10:39:00\n",
            "Freq: T\n",
            "Data columns (total 5 columns):\n",
            " #   Column  Non-Null Count    Dtype  \n",
            "---  ------  --------------    -----  \n",
            " 0   No0     1000000 non-null  float64\n",
            " 1   No1     1000000 non-null  float64\n",
            " 2   No2     1000000 non-null  float64\n",
            " 3   No3     1000000 non-null  float64\n",
            " 4   No4     1000000 non-null  float64\n",
            "dtypes: float64(5)\n",
            "memory usage: 45.8 MB\n"
          ]
        }
      ]
    },
    {
      "cell_type": "code",
      "source": [
        "import sqlite3 as sq3"
      ],
      "metadata": {
        "id": "s1BKsErgPApl"
      },
      "id": "s1BKsErgPApl",
      "execution_count": 89,
      "outputs": []
    },
    {
      "cell_type": "code",
      "source": [
        "con = sq3.connect('data/data.sql')"
      ],
      "metadata": {
        "id": "RNmQIu_ePG-O"
      },
      "id": "RNmQIu_ePG-O",
      "execution_count": 90,
      "outputs": []
    },
    {
      "cell_type": "code",
      "source": [
        "from pandas.io.sql import to_sql\n",
        "\n",
        "%time data.to_sql('data', con)"
      ],
      "metadata": {
        "colab": {
          "base_uri": "https://localhost:8080/"
        },
        "id": "RS0ODrTWPTf5",
        "outputId": "c2c8e397-173a-467e-aa45-7cbbb15951f2"
      },
      "id": "RS0ODrTWPTf5",
      "execution_count": 91,
      "outputs": [
        {
          "output_type": "stream",
          "name": "stdout",
          "text": [
            "CPU times: user 5.66 s, sys: 502 ms, total: 6.16 s\n",
            "Wall time: 6.62 s\n"
          ]
        }
      ]
    },
    {
      "cell_type": "code",
      "source": [
        "ls -n data/data.*"
      ],
      "metadata": {
        "colab": {
          "base_uri": "https://localhost:8080/"
        },
        "id": "AFXV-BdgPuCy",
        "outputId": "b987644e-9a01-42e2-d27b-f239632f375c"
      },
      "id": "AFXV-BdgPuCy",
      "execution_count": 92,
      "outputs": [
        {
          "output_type": "stream",
          "name": "stdout",
          "text": [
            "-rw-r--r-- 1 0 0 105316352 Nov 11 19:46 data/data.sql\n"
          ]
        }
      ]
    },
    {
      "cell_type": "code",
      "source": [
        "query = 'SELECT * FROM data WHERE No1 > 105 AND No2 < 108'"
      ],
      "metadata": {
        "id": "g7n08ZQcQVeN"
      },
      "id": "g7n08ZQcQVeN",
      "execution_count": 93,
      "outputs": []
    },
    {
      "cell_type": "code",
      "source": [
        "%time res = con.execute(query).fetchall()"
      ],
      "metadata": {
        "colab": {
          "base_uri": "https://localhost:8080/"
        },
        "id": "dINEFi2rQ9mm",
        "outputId": "e0944aa0-10a4-4930-95bc-78a634dc88c5"
      },
      "id": "dINEFi2rQ9mm",
      "execution_count": 98,
      "outputs": [
        {
          "output_type": "stream",
          "name": "stdout",
          "text": [
            "CPU times: user 95.5 ms, sys: 27.3 ms, total: 123 ms\n",
            "Wall time: 264 ms\n"
          ]
        }
      ]
    },
    {
      "cell_type": "code",
      "source": [
        "res[:5]"
      ],
      "metadata": {
        "colab": {
          "base_uri": "https://localhost:8080/"
        },
        "id": "Wznu03RARAGW",
        "outputId": "202379cf-c18a-4636-c030-3d74a2961e96"
      },
      "id": "Wznu03RARAGW",
      "execution_count": 99,
      "outputs": [
        {
          "output_type": "execute_result",
          "data": {
            "text/plain": [
              "[('2021-01-02 07:20:00', 94.7465, 105.0102, 98.366, 96.5466, 95.9111),\n",
              " ('2021-01-02 07:21:00', 94.657, 105.1327, 98.408, 96.5713, 95.8929),\n",
              " ('2021-01-02 07:22:00', 94.6679, 105.1209, 98.4628, 96.6073, 95.8567),\n",
              " ('2021-01-02 07:23:00', 94.7103, 105.0987, 98.4849, 96.6077, 95.9016),\n",
              " ('2021-01-02 07:24:00', 94.7291, 105.2672, 98.4339, 96.5741, 95.9267)]"
            ]
          },
          "metadata": {},
          "execution_count": 99
        }
      ]
    },
    {
      "cell_type": "code",
      "source": [
        "len(res)"
      ],
      "metadata": {
        "colab": {
          "base_uri": "https://localhost:8080/"
        },
        "id": "p98Ph5FdSL3j",
        "outputId": "d1071086-826c-46eb-9a53-b4eb969e4b7e"
      },
      "id": "p98Ph5FdSL3j",
      "execution_count": 100,
      "outputs": [
        {
          "output_type": "execute_result",
          "data": {
            "text/plain": [
              "3539"
            ]
          },
          "metadata": {},
          "execution_count": 100
        }
      ]
    },
    {
      "cell_type": "code",
      "source": [
        "con.close()"
      ],
      "metadata": {
        "id": "DAHTDqWiSayK"
      },
      "id": "DAHTDqWiSayK",
      "execution_count": 101,
      "outputs": []
    },
    {
      "cell_type": "code",
      "source": [
        "rm data/*"
      ],
      "metadata": {
        "id": "hjcomuWKShG6"
      },
      "id": "hjcomuWKShG6",
      "execution_count": 102,
      "outputs": []
    },
    {
      "cell_type": "code",
      "source": [],
      "metadata": {
        "id": "uSX0flF2SkBL"
      },
      "id": "uSX0flF2SkBL",
      "execution_count": null,
      "outputs": []
    }
  ],
  "metadata": {
    "kernelspec": {
      "display_name": "Python 3 (ipykernel)",
      "language": "python",
      "name": "python3"
    },
    "language_info": {
      "codemirror_mode": {
        "name": "ipython",
        "version": 3
      },
      "file_extension": ".py",
      "mimetype": "text/x-python",
      "name": "python",
      "nbconvert_exporter": "python",
      "pygments_lexer": "ipython3",
      "version": "3.9.13"
    },
    "colab": {
      "provenance": [],
      "collapsed_sections": []
    }
  },
  "nbformat": 4,
  "nbformat_minor": 5
}